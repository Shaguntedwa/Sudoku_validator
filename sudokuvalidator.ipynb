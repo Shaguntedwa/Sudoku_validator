{
  "nbformat": 4,
  "nbformat_minor": 0,
  "metadata": {
    "colab": {
      "provenance": []
    },
    "kernelspec": {
      "name": "python3",
      "display_name": "Python 3"
    },
    "language_info": {
      "name": "python"
    }
  },
  "cells": [
    {
      "cell_type": "code",
      "execution_count": 14,
      "metadata": {
        "colab": {
          "base_uri": "https://localhost:8080/"
        },
        "id": "8YA4Jd8XVP4D",
        "outputId": "e7385302-491e-457f-c83c-53e27077d49b"
      },
      "outputs": [
        {
          "output_type": "stream",
          "name": "stdout",
          "text": [
            "Enter row 1 (9 space-seperated digits):1 2 3 4 5 6 7 8 9\n",
            "Enter row 2 (9 space-seperated digits):1 2 3 4 5 6 7 8 9\n",
            "Enter row 3 (9 space-seperated digits):1 2 3 4 5 6 7 8 9\n",
            "Enter row 4 (9 space-seperated digits):2 2 3 4 5 6 7 8 9\n",
            "Enter row 5 (9 space-seperated digits):1 2 3 4 5 6 7 8 9\n",
            "Enter row 6 (9 space-seperated digits):1 2 3 4 5 6 7  8 9\n",
            "Enter row 7 (9 space-seperated digits):1 2 3 4 5 6 7 8 9\n",
            "Enter row 8 (9 space-seperated digits):1 2 3 4 5 6 7 8 9\n",
            "Enter row 9 (9 space-seperated digits):1 2 3 4 5 6 7 8 9\n",
            "Invalid row: 4\n"
          ]
        },
        {
          "output_type": "execute_result",
          "data": {
            "text/plain": [
              "False"
            ]
          },
          "metadata": {},
          "execution_count": 14
        }
      ],
      "source": [
        "import numpy as np\n",
        "def is_valid_sudoku(grid):\n",
        "  for idx,row in enumerate(grid):            #Row Validation\n",
        "    if len(set(row))!=9:\n",
        "      print(f\"Invalid row: {idx+1}\")\n",
        "      return False\n",
        "  for idx,col in enumerate(grid.T):          #Column Validation\n",
        "    if len(set(col))!=9:\n",
        "      print(f\"Invalid column:{idx+1}\")\n",
        "      return False\n",
        "  for i in range(0,9,3):\n",
        "     #row blocks\n",
        "     for j in range(0,9,3):\n",
        "      #column blocks\n",
        "      block=grid[i:i+3,j:j+3].flatten()      #i -> 0,3,6   j->0,3,6   flatten block(turn 3*3 into 1D)\n",
        "      if len(set(block))!=9:\n",
        "        print(f\"Invalid 3*3 box starting at row {i+1}, col{j+1}\")\n",
        "        return False\n",
        "  print('Valid Sudoku')\n",
        "  return True\n",
        "def input_grid():\n",
        "  grid=[]\n",
        "  for i in range(9):\n",
        "    row=list(map(int,input(f'Enter row {i+1} (9 space-seperated digits):').split()))\n",
        "    if len(row)!=9:\n",
        "      print(\"Each row must have exactlt 9 digits\")\n",
        "      return None\n",
        "    grid.append(row)\n",
        "  return np.array(grid)\n",
        "if __name__=='__main__':\n",
        "  grid=input_grid()\n",
        "  if grid is not None:\n",
        "    is_valid_sudoku(grid)\n",
        "\n"
      ]
    },
    {
      "cell_type": "code",
      "source": [],
      "metadata": {
        "id": "KLJW__Z5Y7hc"
      },
      "execution_count": null,
      "outputs": []
    }
  ]
}